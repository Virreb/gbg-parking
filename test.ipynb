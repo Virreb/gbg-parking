{
 "cells": [
  {
   "cell_type": "code",
   "execution_count": null,
   "metadata": {},
   "outputs": [],
   "source": [
    "import parkings\n",
    "\n",
    "all_parks = parkings.get_parkings()\n"
   ]
  },
  {
   "cell_type": "code",
   "execution_count": 19,
   "metadata": {},
   "outputs": [
    {
     "name": "stdout",
     "output_type": "stream",
     "text": [
      "a2b3c180-2729-497b-83c1-d87c5d02b33c\n"
     ]
    }
   ],
   "source": [
    "import json\n",
    "    \n",
    "with open('credentials.json', 'r') as f:\n",
    "    creds = json.load(f)\n",
    "        \n",
    "APP_ID = creds['token']"
   ]
  },
  {
   "cell_type": "code",
   "execution_count": 36,
   "metadata": {},
   "outputs": [
    {
     "name": "stdout",
     "output_type": "stream",
     "text": [
      "ERROR:  500\n",
      "None\n"
     ]
    }
   ],
   "source": [
    "API_VERSION = 'v2.1'\n",
    "#BASE_URL = f'http://data.goteborg.se/ParkingService/{API_VERSION}/PublicTollParkings/{APP_ID}'\n",
    "BASE_URL = f'http://data.goteborg.se/ParkingService/{API_VERSION}/CommuterParkings/{APP_ID}'\n",
    "\n",
    "# LONGITUDE, LATITUDE, RADIUS = 57.708314, 11.973153, 20 \n",
    "# GEO_ARGS = f'?latitude={LATITUDE}&longitude={LONGITUDE}&radius={RADIUS}'\n",
    "\n",
    "\n",
    "def get_parkings():\n",
    "    import requests\n",
    "    import pandas as pd\n",
    "    \n",
    "    url = BASE_URL + '?format=Json'\n",
    "    r = requests.get(url)\n",
    "    \n",
    "    if r.status_code == 200:\n",
    "        data = r.json()     # convert to json (dict)\n",
    "    else:\n",
    "        print('ERROR: ', r.status_code)\n",
    "        data = None\n",
    "        \n",
    "    return data\n",
    "\n",
    "parkings = get_parkings()\n",
    "print(parkings)\n"
   ]
  },
  {
   "cell_type": "code",
   "execution_count": 23,
   "metadata": {},
   "outputs": [
    {
     "name": "stdout",
     "output_type": "stream",
     "text": [
      "741\n"
     ]
    }
   ],
   "source": [
    "print(len(parkings))"
   ]
  },
  {
   "cell_type": "code",
   "execution_count": 34,
   "metadata": {},
   "outputs": [],
   "source": [
    "id = parkings[10]['Id']\n",
    "from time import sleep\n",
    "BASE_URL = f'http://data.goteborg.se/ParkingService/{API_VERSION}/PublicPayMachines/{APP_ID}'\n",
    "\n",
    "\n",
    "def get_free_spaces(id):\n",
    "    import requests\n",
    "    import pandas as pd\n",
    "    \n",
    "    url = BASE_URL + f'/{id}' + '?format=Json'\n",
    "    r = requests.get(url)\n",
    "    \n",
    "    if r.status_code == 200:\n",
    "        data = r.json()     # convert to json (dict)\n",
    "    else:\n",
    "        print('ERROR: ', r.status_code)\n",
    "        data = None\n",
    "        \n",
    "    return data\n",
    "\n",
    "for i in range(0, 40):\n",
    "    id = parkings[i]['Id']\n",
    "    data = get_free_spaces(id)\n",
    "    # print(data)\n",
    "    if 'FreeSpaces' in data:\n",
    "        print(data['FreeSpaces'])\n",
    "    sleep(0.1)"
   ]
  },
  {
   "cell_type": "code",
   "execution_count": null,
   "metadata": {},
   "outputs": [],
   "source": []
  }
 ],
 "metadata": {
  "kernelspec": {
   "display_name": "Python 3",
   "language": "python",
   "name": "python3"
  },
  "language_info": {
   "codemirror_mode": {
    "name": "ipython",
    "version": 3
   },
   "file_extension": ".py",
   "mimetype": "text/x-python",
   "name": "python",
   "nbconvert_exporter": "python",
   "pygments_lexer": "ipython3",
   "version": "3.6.7"
  }
 },
 "nbformat": 4,
 "nbformat_minor": 2
}
